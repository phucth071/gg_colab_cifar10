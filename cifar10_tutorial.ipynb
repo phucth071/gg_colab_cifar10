{
  "cells": [
    {
      "cell_type": "markdown",
      "metadata": {
        "id": "view-in-github",
        "colab_type": "text"
      },
      "source": [
        "<a href=\"https://colab.research.google.com/github/phucth071/gg_colab_cifar10/blob/master/cifar10_tutorial.ipynb\" target=\"_parent\"><img src=\"https://colab.research.google.com/assets/colab-badge.svg\" alt=\"Open In Colab\"/></a>"
      ]
    },
    {
      "cell_type": "code",
      "execution_count": null,
      "metadata": {
        "id": "W_r0DOf1WPQW"
      },
      "outputs": [],
      "source": [
        "%matplotlib inline"
      ]
    },
    {
      "cell_type": "markdown",
      "source": [
        "# Nhóm 2\n",
        "**Trần Hoàng Phúc 21110606**\n",
        "\n",
        "**Nguyễn Hoàng Phương 21110609**\n",
        "\n",
        "**Phan Thanh Hiển 21110439**\n",
        "\n",
        "**Nguyễn An Trần Điền 21110422**\n",
        "\n",
        "**Mai Đình Hồng Sơn 21110465**\n"
      ],
      "metadata": {
        "id": "FCGonyY-Z01O"
      }
    },
    {
      "cell_type": "markdown",
      "metadata": {
        "id": "YgmIMM-0WPQX"
      },
      "source": [
        "\n",
        "Training a Classifier\n",
        "=====================\n",
        "\n",
        "This is it. You have seen how to define neural networks, compute loss and make\n",
        "updates to the weights of the network.\n",
        "\n",
        "Now you might be thinking,\n",
        "\n",
        "What about data?\n",
        "----------------\n",
        "\n",
        "Generally, when you have to deal with image, text, audio or video data,\n",
        "you can use standard python packages that load data into a numpy array.\n",
        "Then you can convert this array into a ``torch.*Tensor``.\n",
        "\n",
        "-  For images, packages such as Pillow, OpenCV are useful\n",
        "-  For audio, packages such as scipy and librosa\n",
        "-  For text, either raw Python or Cython based loading, or NLTK and\n",
        "   SpaCy are useful\n",
        "\n",
        "Specifically for vision, we have created a package called\n",
        "``torchvision``, that has data loaders for common datasets such as\n",
        "Imagenet, CIFAR10, MNIST, etc. and data transformers for images, viz.,\n",
        "``torchvision.datasets`` and ``torch.utils.data.DataLoader``.\n",
        "\n",
        "This provides a huge convenience and avoids writing boilerplate code.\n",
        "\n",
        "For this tutorial, we will use the CIFAR10 dataset.\n",
        "It has the classes: ‘airplane’, ‘automobile’, ‘bird’, ‘cat’, ‘deer’,\n",
        "‘dog’, ‘frog’, ‘horse’, ‘ship’, ‘truck’. The images in CIFAR-10 are of\n",
        "size 3x32x32, i.e. 3-channel color images of 32x32 pixels in size.\n",
        "\n",
        ".. figure:: /_static/img/cifar10.png\n",
        "   :alt: cifar10\n",
        "\n",
        "   cifar10\n",
        "\n",
        "\n",
        "Training an image classifier\n",
        "----------------------------\n",
        "\n",
        "We will do the following steps in order:\n",
        "\n",
        "1. Load and normalizing the CIFAR10 training and test datasets using\n",
        "   ``torchvision``\n",
        "2. Define a Convolution Neural Network\n",
        "3. Define a loss function\n",
        "4. Train the network on the training data\n",
        "5. Test the network on the test data\n",
        "\n",
        "1. Loading and normalizing CIFAR10\n",
        "^^^^^^^^^^^^^^^^^^^^^^^^^^^^^^^^^^\n",
        "\n",
        "Using ``torchvision``, it’s extremely easy to load CIFAR10.\n",
        "\n"
      ]
    },
    {
      "cell_type": "code",
      "execution_count": 1,
      "metadata": {
        "id": "YT8DZJkHWPQY"
      },
      "outputs": [],
      "source": [
        "import torch\n",
        "import torchvision\n",
        "import torchvision.transforms as transforms"
      ]
    },
    {
      "cell_type": "markdown",
      "metadata": {
        "id": "bl9VoKDnWPQZ"
      },
      "source": [
        "The output of torchvision datasets are PILImage images of range [0, 1].\n",
        "We transform them to Tensors of normalized range [-1, 1].\n",
        "\n"
      ]
    },
    {
      "cell_type": "code",
      "execution_count": 3,
      "metadata": {
        "id": "3YNMQ2DNWPQZ",
        "colab": {
          "base_uri": "https://localhost:8080/"
        },
        "outputId": "aa78f074-ac99-4ae8-8247-9b32b37c00ac"
      },
      "outputs": [
        {
          "output_type": "stream",
          "name": "stdout",
          "text": [
            "Downloading https://www.cs.toronto.edu/~kriz/cifar-10-python.tar.gz to ./data/cifar-10-python.tar.gz\n"
          ]
        },
        {
          "output_type": "stream",
          "name": "stderr",
          "text": [
            "100%|██████████| 170M/170M [00:05<00:00, 33.1MB/s]\n"
          ]
        },
        {
          "output_type": "stream",
          "name": "stdout",
          "text": [
            "Extracting ./data/cifar-10-python.tar.gz to ./data\n",
            "Files already downloaded and verified\n",
            "cuda:0\n"
          ]
        }
      ],
      "source": [
        "transform = transforms.Compose(\n",
        "    [transforms.ToTensor(),\n",
        "     transforms.Normalize((0.5, 0.5, 0.5), (0.5, 0.5, 0.5))])\n",
        "\n",
        "trainset = torchvision.datasets.CIFAR10(root='./data', train=True,\n",
        "                                        download=True, transform=transform)\n",
        "trainloader = torch.utils.data.DataLoader(trainset, batch_size=4,\n",
        "                                          shuffle=True, num_workers=2)\n",
        "\n",
        "testset = torchvision.datasets.CIFAR10(root='./data', train=False,\n",
        "                                       download=True, transform=transform)\n",
        "testloader = torch.utils.data.DataLoader(testset, batch_size=4,\n",
        "                                         shuffle=False, num_workers=2)\n",
        "\n",
        "classes = ('plane', 'car', 'bird', 'cat',\n",
        "           'deer', 'dog', 'frog', 'horse', 'ship', 'truck')\n",
        "\n",
        "device = torch.device(\"cuda:0\" if torch.cuda.is_available() else \"cpu\")\n",
        "\n",
        "# Assume that we are on a CUDA machine, then this should print a CUDA device:\n",
        "\n",
        "print(device)"
      ]
    },
    {
      "cell_type": "markdown",
      "metadata": {
        "id": "21HYzRz7WPQZ"
      },
      "source": [
        "Let us show some of the training images, for fun.\n",
        "\n"
      ]
    },
    {
      "cell_type": "code",
      "execution_count": 5,
      "metadata": {
        "id": "rANGfnmNWPQa",
        "colab": {
          "base_uri": "https://localhost:8080/",
          "height": 210
        },
        "outputId": "4e9da761-f95d-4677-f866-51e8e4089f3c"
      },
      "outputs": [
        {
          "output_type": "stream",
          "name": "stdout",
          "text": [
            " ship  deer  ship   dog\n"
          ]
        },
        {
          "output_type": "display_data",
          "data": {
            "text/plain": [
              "<Figure size 640x480 with 1 Axes>"
            ],
            "image/png": "[encoded data removed]"
          },
          "metadata": {}
        }
      ],
      "source": [
        "import matplotlib.pyplot as plt\n",
        "import numpy as np\n",
        "\n",
        "# functions to show an image\n",
        "\n",
        "\n",
        "def imshow(img):\n",
        "    img = img / 2 + 0.5     # unnormalize\n",
        "    npimg = img.cpu().numpy()\n",
        "    plt.imshow(np.transpose(npimg, (1, 2, 0)))\n",
        "\n",
        "\n",
        "# get some random training images\n",
        "dataiter = iter(trainloader)\n",
        "inputs, labels = next(dataiter)\n",
        "inputs, labels = inputs.to(device), labels.to(device)\n",
        "\n",
        "# show images\n",
        "imshow(torchvision.utils.make_grid(inputs))\n",
        "# print labels\n",
        "print(' '.join('%5s' % classes[labels[j]] for j in range(4)))"
      ]
    },
    {
      "cell_type": "markdown",
      "metadata": {
        "id": "bve5CxP1WPQa"
      },
      "source": [
        "2. Define a Convolution Neural Network\n",
        "^^^^^^^^^^^^^^^^^^^^^^^^^^^^^^^^^^^^^^\n",
        "Copy the neural network from the Neural Networks section before and modify it to\n",
        "take 3-channel images (instead of 1-channel images as it was defined).\n",
        "\n"
      ]
    },
    {
      "cell_type": "code",
      "execution_count": 2,
      "metadata": {
        "id": "kI790RzqWPQa",
        "colab": {
          "base_uri": "https://localhost:8080/"
        },
        "outputId": "bd5fd6d8-719f-429b-8670-634a35da6d4a"
      },
      "outputs": [
        {
          "output_type": "stream",
          "name": "stdout",
          "text": [
            "cuda:0\n",
            "----------------------------------------------------------------\n",
            "        Layer (type)               Output Shape         Param #\n",
            "================================================================\n",
            "            Conv2d-1           [-1, 64, 28, 28]           4,864\n",
            "            Conv2d-2          [-1, 128, 28, 28]          73,856\n",
            "            Conv2d-3          [-1, 128, 14, 14]         147,584\n",
            "            Conv2d-4          [-1, 128, 28, 28]         409,728\n",
            "         AvgPool2d-5          [-1, 128, 14, 14]               0\n",
            "            Conv2d-6          [-1, 384, 14, 14]       2,457,984\n",
            "            Conv2d-7          [-1, 384, 14, 14]       1,327,488\n",
            "            Conv2d-8          [-1, 384, 14, 14]       2,457,984\n",
            "            Conv2d-9          [-1, 256, 14, 14]         295,168\n",
            "           Conv2d-10          [-1, 384, 14, 14]       2,457,984\n",
            "AdaptiveAvgPool2d-11            [-1, 768, 1, 1]               0\n",
            "           Linear-12                   [-1, 10]           7,690\n",
            "================================================================\n",
            "Total params: 9,640,330\n",
            "Trainable params: 9,640,330\n",
            "Non-trainable params: 0\n",
            "----------------------------------------------------------------\n",
            "Input size (MB): 0.01\n",
            "Forward/backward pass size (MB): 4.98\n",
            "Params size (MB): 36.77\n",
            "Estimated Total Size (MB): 41.77\n",
            "----------------------------------------------------------------\n"
          ]
        }
      ],
      "source": [
        "import torch.nn as nn\n",
        "import torch.nn.functional as F\n",
        "\n",
        "\n",
        "class Net(nn.Module):\n",
        "    def __init__(self):\n",
        "        super().__init__()\n",
        "        # self.conv1 = nn.Conv2d(3, 64, 5, padding=2)\n",
        "        # self.conv2 = nn.Conv2d(32, 128, 5, padding=2)\n",
        "        # self.conv3 = nn.Conv2d(128, 256, 3, padding=1, stride=2)\n",
        "        # self.conv4 = nn.Conv2d(32, 64, 3, padding=1)\n",
        "        # self.conv5 = nn.Conv2d(64, 128, 3, padding=1, stride=2)\n",
        "        # self.conv6 = nn.Conv2d(128, 256, 3, padding=1)\n",
        "        # self.conv7 = nn.Conv2d(640, 512, 5, padding=1, stride=2)\n",
        "        # self.conv8 = nn.Conv2d(512, 1024, 3, padding=1, stride=2)\n",
        "        # self.avgpool = nn.AdaptiveAvgPool2d(output_size=1)\n",
        "        # self.fc = nn.Linear(1024, 10)\n",
        "        self.conv1 = nn.Conv2d(3, 64, kernel_size=5, stride=1, padding=0)\n",
        "        self.conv2 = nn.Conv2d(64, 128, kernel_size=3, stride=1, padding=1)\n",
        "        self.conv3 = nn.Conv2d(128, 128, kernel_size=3, stride=2, padding=0)\n",
        "        self.conv4 = nn.Conv2d(128, 128, kernel_size=5, stride=1, padding=2)\n",
        "        self.avgpool1 = nn.AvgPool2d((2,2))\n",
        "        self.conv5 = nn.Conv2d(256, 384, kernel_size=5, stride=1, padding=2)\n",
        "        self.conv6 = nn.Conv2d(384, 384, kernel_size=3, stride=1, padding=1)\n",
        "        self.conv7 = nn.Conv2d(256, 384, kernel_size=5, stride=1, padding=2)\n",
        "        self.conv8 = nn.Conv2d(128, 256, kernel_size=3, stride=1, padding=1)\n",
        "        self.conv9 = nn.Conv2d(256, 384, kernel_size=5, stride=1, padding=2)\n",
        "        self.avgpool2 = nn.AdaptiveAvgPool2d((1, 1))\n",
        "        self.fc = nn.Linear(768, 10)\n",
        "    def forward(self, x):\n",
        "        x = self.conv1(x) # 28\n",
        "        x = self.conv2(x) # 28\n",
        "        x1 = self.conv3(x)\n",
        "        x2 = self.conv4(x)\n",
        "        x2 = self.avgpool1(x2)\n",
        "        x = torch.cat((x1, x2), dim=1)\n",
        "        xx1 = self.conv5(x)\n",
        "        xx3 = self.conv6(xx1)\n",
        "        xx2 = self.conv7(x)\n",
        "        x2 = self.conv8(x2)\n",
        "        x2 = self.conv9(x2)\n",
        "        xx2 = x2+xx2\n",
        "        xx1 = xx1+xx3\n",
        "        x = torch.cat((xx1, xx2), dim=1)\n",
        "        x = self.avgpool2(x)\n",
        "        x = x.view(x.size(0), -1)\n",
        "        x = self.fc(x)\n",
        "        return x\n",
        "\n",
        "\n",
        "net = Net()\n",
        "device = torch.device('cuda:0' if torch.cuda.is_available() else 'cpu')\n",
        "\n",
        "# Assuming that we are on a CUDA machine, this should print a CUDA device:\n",
        "\n",
        "print(device)\n",
        "net.to(device)\n",
        "from torchsummary import summary\n",
        "summary(net, (3, 32, 32))"
      ]
    },
    {
      "cell_type": "markdown",
      "metadata": {
        "id": "DFkjEgYlWPQb"
      },
      "source": [
        "3. Define a Loss function and optimizer\n",
        "^^^^^^^^^^^^^^^^^^^^^^^^^^^^^^^^^^^^^^^\n",
        "Let's use a Classification Cross-Entropy loss and SGD with momentum.\n",
        "\n"
      ]
    },
    {
      "cell_type": "code",
      "execution_count": 6,
      "metadata": {
        "id": "__i1BhrkWPQc"
      },
      "outputs": [],
      "source": [
        "import torch.optim as optim\n",
        "\n",
        "criterion = nn.CrossEntropyLoss()\n",
        "optimizer = optim.SGD(net.parameters(), lr=0.001, momentum=0.9)"
      ]
    },
    {
      "cell_type": "markdown",
      "metadata": {
        "id": "IQqoa2TeWPQc"
      },
      "source": [
        "4. Train the network\n",
        "^^^^^^^^^^^^^^^^^^^^\n",
        "\n",
        "This is when things start to get interesting.\n",
        "We simply have to loop over our data iterator, and feed the inputs to the\n",
        "network and optimize.\n",
        "\n"
      ]
    },
    {
      "cell_type": "code",
      "execution_count": 7,
      "metadata": {
        "id": "hHDwQExtWPQd",
        "colab": {
          "base_uri": "https://localhost:8080/"
        },
        "outputId": "a7868b2a-d090-4001-fe28-ea112a28a457"
      },
      "outputs": [
        {
          "output_type": "stream",
          "name": "stdout",
          "text": [
            "[1,  2000] loss: 2.063\n",
            "[1,  4000] loss: 2.014\n",
            "[1,  6000] loss: 1.995\n",
            "[1,  8000] loss: 1.963\n",
            "[1, 10000] loss: 1.950\n",
            "[1, 12000] loss: 1.930\n",
            "[2,  2000] loss: 1.934\n",
            "[2,  4000] loss: 1.916\n",
            "[2,  6000] loss: 1.903\n",
            "[2,  8000] loss: 1.898\n",
            "[2, 10000] loss: 1.886\n",
            "[2, 12000] loss: 1.893\n",
            "[3,  2000] loss: 1.861\n",
            "[3,  4000] loss: 1.876\n",
            "[3,  6000] loss: 1.869\n",
            "[3,  8000] loss: 1.869\n",
            "[3, 10000] loss: 1.856\n",
            "[3, 12000] loss: 1.864\n",
            "[4,  2000] loss: 1.863\n",
            "[4,  4000] loss: 1.842\n",
            "[4,  6000] loss: 1.844\n",
            "[4,  8000] loss: 1.834\n",
            "[4, 10000] loss: 1.830\n",
            "[4, 12000] loss: 1.847\n",
            "[5,  2000] loss: 1.840\n",
            "[5,  4000] loss: 1.830\n",
            "[5,  6000] loss: 1.826\n",
            "[5,  8000] loss: 1.821\n",
            "[5, 10000] loss: 1.843\n",
            "[5, 12000] loss: 1.813\n",
            "[6,  2000] loss: 1.805\n",
            "[6,  4000] loss: 1.824\n",
            "[6,  6000] loss: 1.817\n",
            "[6,  8000] loss: 1.817\n",
            "[6, 10000] loss: 1.820\n",
            "[6, 12000] loss: 1.822\n",
            "[7,  2000] loss: 1.827\n",
            "[7,  4000] loss: 1.816\n",
            "[7,  6000] loss: 1.808\n",
            "[7,  8000] loss: 1.790\n",
            "[7, 10000] loss: 1.802\n",
            "[7, 12000] loss: 1.807\n",
            "[8,  2000] loss: 1.804\n",
            "[8,  4000] loss: 1.822\n",
            "[8,  6000] loss: 1.808\n",
            "[8,  8000] loss: 1.804\n",
            "[8, 10000] loss: 1.797\n",
            "[8, 12000] loss: 1.792\n",
            "[9,  2000] loss: 1.788\n",
            "[9,  4000] loss: 1.798\n",
            "[9,  6000] loss: 1.797\n",
            "[9,  8000] loss: 1.793\n",
            "[9, 10000] loss: 1.803\n",
            "[9, 12000] loss: 1.811\n",
            "[10,  2000] loss: 1.786\n",
            "[10,  4000] loss: 1.794\n",
            "[10,  6000] loss: 1.809\n",
            "[10,  8000] loss: 1.783\n",
            "[10, 10000] loss: 1.781\n",
            "[10, 12000] loss: 1.797\n",
            "Finished Training\n"
          ]
        }
      ],
      "source": [
        "for epoch in range(10):  # loop over the dataset multiple times\n",
        "\n",
        "    running_loss = 0.0\n",
        "    for i, data in enumerate(trainloader, 0):\n",
        "        # get the inputs\n",
        "        inputs, labels = data\n",
        "        inputs, labels = inputs.to(device), labels.to(device)\n",
        "\n",
        "        # zero the parameter gradients\n",
        "        optimizer.zero_grad()\n",
        "\n",
        "        # forward + backward + optimize\n",
        "        outputs = net(inputs)\n",
        "        loss = criterion(outputs, labels)\n",
        "        loss.backward()\n",
        "        optimizer.step()\n",
        "\n",
        "        # print statistics\n",
        "        running_loss += loss.item()\n",
        "        if i % 2000 == 1999:    # print every 2000 mini-batches\n",
        "            print('[%d, %5d] loss: %.3f' %\n",
        "                  (epoch + 1, i + 1, running_loss / 2000))\n",
        "            running_loss = 0.0\n",
        "\n",
        "print('Finished Training')"
      ]
    },
    {
      "cell_type": "markdown",
      "metadata": {
        "id": "U4CgGFb_WPQd"
      },
      "source": [
        "5. Test the network on the test data\n",
        "^^^^^^^^^^^^^^^^^^^^^^^^^^^^^^^^^^^^\n",
        "\n",
        "We have trained the network for 2 passes over the training dataset.\n",
        "But we need to check if the network has learnt anything at all.\n",
        "\n",
        "We will check this by predicting the class label that the neural network\n",
        "outputs, and checking it against the ground-truth. If the prediction is\n",
        "correct, we add the sample to the list of correct predictions.\n",
        "\n",
        "Okay, first step. Let us display an image from the test set to get familiar.\n",
        "\n"
      ]
    },
    {
      "cell_type": "code",
      "execution_count": 8,
      "metadata": {
        "id": "VHNgZhoZWPQd",
        "colab": {
          "base_uri": "https://localhost:8080/",
          "height": 210
        },
        "outputId": "fe2c7b69-3c87-4437-f6db-bdf11a6ecd43"
      },
      "outputs": [
        {
          "output_type": "stream",
          "name": "stdout",
          "text": [
            "GroundTruth:    cat  ship  ship plane\n"
          ]
        },
        {
          "output_type": "display_data",
          "data": {
            "text/plain": [
              "<Figure size 640x480 with 1 Axes>"
            ],
            "image/png": "[encoded data removed]"
          },
          "metadata": {}
        }
      ],
      "source": [
        "dataiter = iter(testloader)\n",
        "inputs, labels = next(dataiter)\n",
        "inputs, labels = inputs.to(device), labels.to(device)\n",
        "\n",
        "# print images\n",
        "imshow(torchvision.utils.make_grid(inputs))\n",
        "print('GroundTruth: ', ' '.join('%5s' % classes[labels[j]] for j in range(4)))"
      ]
    },
    {
      "cell_type": "markdown",
      "metadata": {
        "id": "XfdohjFyWPQd"
      },
      "source": [
        "Okay, now let us see what the neural network thinks these examples above are:\n",
        "\n"
      ]
    },
    {
      "cell_type": "code",
      "execution_count": 9,
      "metadata": {
        "id": "F2hHZoF2WPQd"
      },
      "outputs": [],
      "source": [
        "outputs = net(inputs)"
      ]
    },
    {
      "cell_type": "markdown",
      "metadata": {
        "id": "vYw4XTu9WPQe"
      },
      "source": [
        "The outputs are energies for the 10 classes.\n",
        "Higher the energy for a class, the more the network\n",
        "thinks that the image is of the particular class.\n",
        "So, let's get the index of the highest energy:\n",
        "\n"
      ]
    },
    {
      "cell_type": "code",
      "execution_count": 10,
      "metadata": {
        "id": "E7xa0IrXWPQe",
        "colab": {
          "base_uri": "https://localhost:8080/"
        },
        "outputId": "b26c5783-3db1-4728-e426-61f008bce91b"
      },
      "outputs": [
        {
          "output_type": "stream",
          "name": "stdout",
          "text": [
            "Predicted:    cat truck  ship plane\n"
          ]
        }
      ],
      "source": [
        "_, predicted = torch.max(outputs, 1)\n",
        "\n",
        "print('Predicted: ', ' '.join('%5s' % classes[predicted[j]]\n",
        "                              for j in range(4)))"
      ]
    },
    {
      "cell_type": "markdown",
      "metadata": {
        "id": "hnufF12NWPQe"
      },
      "source": [
        "The results seem pretty good.\n",
        "\n",
        "Let us look at how the network performs on the whole dataset.\n",
        "\n"
      ]
    },
    {
      "cell_type": "code",
      "execution_count": 11,
      "metadata": {
        "id": "gtgLZ2WeWPQe",
        "colab": {
          "base_uri": "https://localhost:8080/"
        },
        "outputId": "f613ed80-f68f-4c1d-cf7e-10081d6ed40e"
      },
      "outputs": [
        {
          "output_type": "stream",
          "name": "stdout",
          "text": [
            "Accuracy of the network on the 10000 test images: 38 %\n"
          ]
        }
      ],
      "source": [
        "correct = 0\n",
        "total = 0\n",
        "with torch.no_grad():\n",
        "    for data in testloader:\n",
        "        inputs, labels = data\n",
        "        inputs, labels = inputs.to(device), labels.to(device)\n",
        "        outputs = net(inputs)\n",
        "        _, predicted = torch.max(outputs.data, 1)\n",
        "        total += labels.size(0)\n",
        "        correct += (predicted == labels).sum().item()\n",
        "\n",
        "print('Accuracy of the network on the 10000 test images: %d %%' % (\n",
        "    100 * correct / total))"
      ]
    },
    {
      "cell_type": "markdown",
      "metadata": {
        "id": "5thoHepeWPQe"
      },
      "source": [
        "That looks waaay better than chance, which is 10% accuracy (randomly picking\n",
        "a class out of 10 classes).\n",
        "Seems like the network learnt something.\n",
        "\n",
        "Hmmm, what are the classes that performed well, and the classes that did\n",
        "not perform well:\n",
        "\n"
      ]
    },
    {
      "cell_type": "code",
      "execution_count": 12,
      "metadata": {
        "id": "QGd6bPp6WPQf",
        "colab": {
          "base_uri": "https://localhost:8080/"
        },
        "outputId": "1b48b4f2-58af-4ae9-9a98-2c4a81460234"
      },
      "outputs": [
        {
          "output_type": "stream",
          "name": "stdout",
          "text": [
            "Accuracy of plane : 57 %\n",
            "Accuracy of   car : 49 %\n",
            "Accuracy of  bird : 25 %\n",
            "Accuracy of   cat : 26 %\n",
            "Accuracy of  deer : 16 %\n",
            "Accuracy of   dog : 30 %\n",
            "Accuracy of  frog : 50 %\n",
            "Accuracy of horse : 44 %\n",
            "Accuracy of  ship : 36 %\n",
            "Accuracy of truck : 44 %\n"
          ]
        }
      ],
      "source": [
        "class_correct = list(0. for i in range(10))\n",
        "class_total = list(0. for i in range(10))\n",
        "with torch.no_grad():\n",
        "    for data in testloader:\n",
        "        inputs, labels = data\n",
        "        inputs, labels = inputs.to(device), labels.to(device)\n",
        "        outputs = net(inputs)\n",
        "        _, predicted = torch.max(outputs, 1)\n",
        "        c = (predicted == labels).squeeze()\n",
        "        for i in range(4):\n",
        "            label = labels[i]\n",
        "            class_correct[label] += c[i].item()\n",
        "            class_total[label] += 1\n",
        "\n",
        "\n",
        "for i in range(10):\n",
        "    print('Accuracy of %5s : %2d %%' % (\n",
        "        classes[i], 100 * class_correct[i] / class_total[i]))"
      ]
    },
    {
      "cell_type": "markdown",
      "metadata": {
        "id": "VNFCKYgmWPQf"
      },
      "source": [
        "Okay, so what next?\n",
        "\n",
        "How do we run these neural networks on the GPU?\n",
        "\n",
        "Training on GPU\n",
        "----------------\n",
        "Just like how you transfer a Tensor on to the GPU, you transfer the neural\n",
        "net onto the GPU.\n",
        "\n",
        "Let's first define our device as the first visible cuda device if we have\n",
        "CUDA available:\n",
        "\n"
      ]
    },
    {
      "cell_type": "code",
      "execution_count": null,
      "metadata": {
        "id": "dVnLxoumWPQf"
      },
      "outputs": [],
      "source": [
        "device = torch.device(\"cuda:0\" if torch.cuda.is_available() else \"cpu\")\n",
        "\n",
        "# Assume that we are on a CUDA machine, then this should print a CUDA device:\n",
        "\n",
        "print(device)"
      ]
    },
    {
      "cell_type": "markdown",
      "metadata": {
        "id": "MgEiFSxAWPQf"
      },
      "source": [
        "The rest of this section assumes that `device` is a CUDA device.\n",
        "\n",
        "Then these methods will recursively go over all modules and convert their\n",
        "parameters and buffers to CUDA tensors:\n",
        "\n",
        ".. code:: python\n",
        "\n",
        "    net.to(device)\n",
        "\n",
        "\n",
        "Remember that you will have to send the inputs and targets at every step\n",
        "to the GPU too:\n",
        "\n",
        ".. code:: python\n",
        "\n",
        "        inputs, labels = inputs.to(device), labels.to(device)\n",
        "\n",
        "Why dont I notice MASSIVE speedup compared to CPU? Because your network\n",
        "is realllly small.\n",
        "\n",
        "**Exercise:** Try increasing the width of your network (argument 2 of\n",
        "the first ``nn.Conv2d``, and argument 1 of the second ``nn.Conv2d`` –\n",
        "they need to be the same number), see what kind of speedup you get.\n",
        "\n",
        "**Goals achieved**:\n",
        "\n",
        "- Understanding PyTorch's Tensor library and neural networks at a high level.\n",
        "- Train a small neural network to classify images\n",
        "\n",
        "Training on multiple GPUs\n",
        "-------------------------\n",
        "If you want to see even more MASSIVE speedup using all of your GPUs,\n",
        "please check out :doc:`data_parallel_tutorial`.\n",
        "\n",
        "Where do I go next?\n",
        "-------------------\n",
        "\n",
        "-  :doc:`Train neural nets to play video games </intermediate/reinforcement_q_learning>`\n",
        "-  `Train a state-of-the-art ResNet network on imagenet`_\n",
        "-  `Train a face generator using Generative Adversarial Networks`_\n",
        "-  `Train a word-level language model using Recurrent LSTM networks`_\n",
        "-  `More examples`_\n",
        "-  `More tutorials`_\n",
        "-  `Discuss PyTorch on the Forums`_\n",
        "-  `Chat with other users on Slack`_\n",
        "\n",
        "\n"
      ]
    }
  ],
  "metadata": {
    "kernelspec": {
      "display_name": "Python 3",
      "name": "python3"
    },
    "language_info": {
      "codemirror_mode": {
        "name": "ipython",
        "version": 3
      },
      "file_extension": ".py",
      "mimetype": "text/x-python",
      "name": "python",
      "nbconvert_exporter": "python",
      "pygments_lexer": "ipython3",
      "version": "3.6.6"
    },
    "colab": {
      "provenance": [],
      "gpuType": "T4",
      "include_colab_link": true
    },
    "accelerator": "GPU"
  },
  "nbformat": 4,
  "nbformat_minor": 0
}